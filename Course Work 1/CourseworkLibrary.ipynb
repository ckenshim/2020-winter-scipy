{
 "cells": [
  {
   "cell_type": "code",
   "execution_count": 1,
   "metadata": {},
   "outputs": [],
   "source": [
    "#! /usr/bin/env python\n",
    "# -*- coding: utf-8 -*-\n",
    "\n",
    "# Coursework in Python \n",
    "from CourseworkLibrary import *\n",
    "import numpy as np"
   ]
  },
  {
   "cell_type": "code",
   "execution_count": 8,
   "metadata": {},
   "outputs": [],
   "source": [
    "#\n",
    "# Coursework 1 begins here\n",
    "#\n",
    "# Function to compute the prior distribution of the variable root from the data set\n",
    "def Prior(theData, root, noStates):\n",
    "    prior = np.zeros((noStates[root]), float)\n",
    "    # Coursework 1 task 1 should be inserted here\n",
    "    # print('Root: ', root)\n",
    "    # print('States: ', noStates)\n",
    "    # print('Prior first: ', prior)\n",
    "    for m in theData:\n",
    "        list_m = list(m)\n",
    "        prior[list_m[root]] += 1.0\n",
    "    # print('Prior second: ', prior)\n",
    "    prior /= len(theData)\n",
    "    # print('Prior third: ', prior)\n",
    "    # print(sum(prior))\n",
    "    # end of Coursework 1 task 1\n",
    "    return prior"
   ]
  },
  {
   "cell_type": "code",
   "execution_count": 11,
   "metadata": {},
   "outputs": [],
   "source": [
    "# Function to compute a CPT with parent node varP and xchild node varC from the data array\n",
    "# it is assumed that the states are designated by consecutive integers starting with 0\n",
    "def CPT(theData, varC, varP, noStates):\n",
    "    cPT = np.zeros((noStates[varC], noStates[varP]), float)\n",
    "    # Coursework 1 task 2 should be inserte4d here\n",
    "    prior_of_child = Prior(theData, 0, noStates)\n",
    "    prior_of_parent = Prior(theData, 0, noStates)\n",
    "    \n",
    "    # print('Prior child: ', prior_of_child)\n",
    "    # print('Prior parent: ', prior_of_parent)\n",
    "    # print(cPT)\n",
    "    # end of coursework 1 task 2\n",
    "    return cPT"
   ]
  },
  {
   "cell_type": "code",
   "execution_count": 4,
   "metadata": {},
   "outputs": [],
   "source": [
    "# Function to calculate the joint probability table of two variables in the data set\n",
    "def JPT(theData, varRow, varCol, noStates):\n",
    "    jPT = np.zeros((noStates[varRow], noStates[varCol]), float)\n",
    "    # Coursework 1 task 3 should be inserted here\n",
    "\n",
    "    # end of coursework 1 task 3\n",
    "    return jPT"
   ]
  },
  {
   "cell_type": "code",
   "execution_count": 5,
   "metadata": {},
   "outputs": [],
   "source": [
    "# Function to convert a joint probability table to a conditional probability table\n",
    "def JPT2CPT(aJPT):\n",
    "    # Coursework 1 task 4 should be inserted here\n",
    "\n",
    "    # coursework 1 task 4 ends here\n",
    "    return aJPT"
   ]
  },
  {
   "cell_type": "code",
   "execution_count": 6,
   "metadata": {},
   "outputs": [],
   "source": [
    "# Function to query a naive Bayesian network\n",
    "def Query(theQuery, naiveBayes):\n",
    "    rootPdf = np.zeros((naiveBayes[0].shape[0]), float)\n",
    "    # Coursework 1 task 5 should be inserted here\n",
    "\n",
    "    # end of coursework 1 task 5\n",
    "    return rootPdf"
   ]
  },
  {
   "cell_type": "code",
   "execution_count": 12,
   "metadata": {},
   "outputs": [
    {
     "ename": "IndexError",
     "evalue": "list index out of range",
     "output_type": "error",
     "traceback": [
      "\u001b[0;31m---------------------------------------------------------------------------\u001b[0m",
      "\u001b[0;31mIndexError\u001b[0m                                Traceback (most recent call last)",
      "\u001b[0;32m<ipython-input-12-822b3c43ab3f>\u001b[0m in \u001b[0;36m<module>\u001b[0;34m\u001b[0m\n\u001b[1;32m     11\u001b[0m     \u001b[0mAppendString\u001b[0m\u001b[0;34m(\u001b[0m\u001b[0;34m\"results.txt\"\u001b[0m\u001b[0;34m,\u001b[0m \u001b[0;34m\"The prior probability of node 0\"\u001b[0m\u001b[0;34m)\u001b[0m\u001b[0;34m\u001b[0m\u001b[0;34m\u001b[0m\u001b[0m\n\u001b[1;32m     12\u001b[0m     \u001b[0mprior\u001b[0m \u001b[0;34m=\u001b[0m \u001b[0mPrior\u001b[0m\u001b[0;34m(\u001b[0m\u001b[0mtheData\u001b[0m\u001b[0;34m,\u001b[0m \u001b[0;36m0\u001b[0m\u001b[0;34m,\u001b[0m \u001b[0mnoStates\u001b[0m\u001b[0;34m)\u001b[0m\u001b[0;34m\u001b[0m\u001b[0;34m\u001b[0m\u001b[0m\n\u001b[0;32m---> 13\u001b[0;31m     \u001b[0mcPT\u001b[0m \u001b[0;34m=\u001b[0m \u001b[0mCPT\u001b[0m\u001b[0;34m(\u001b[0m\u001b[0mtheData\u001b[0m\u001b[0;34m,\u001b[0m \u001b[0;36m2\u001b[0m\u001b[0;34m,\u001b[0m \u001b[0;36m0\u001b[0m\u001b[0;34m,\u001b[0m \u001b[0mnoStates\u001b[0m\u001b[0;34m)\u001b[0m\u001b[0;34m\u001b[0m\u001b[0;34m\u001b[0m\u001b[0m\n\u001b[0m\u001b[1;32m     14\u001b[0m \u001b[0;31m#     jPT = JPT(theData, varRow, varCol, noStates)\u001b[0m\u001b[0;34m\u001b[0m\u001b[0;34m\u001b[0m\u001b[0;34m\u001b[0m\u001b[0m\n\u001b[1;32m     15\u001b[0m \u001b[0;31m#     AppendList(\"results.txt\", prior)\u001b[0m\u001b[0;34m\u001b[0m\u001b[0;34m\u001b[0m\u001b[0;34m\u001b[0m\u001b[0m\n",
      "\u001b[0;32m<ipython-input-11-1fccb2f676de>\u001b[0m in \u001b[0;36mCPT\u001b[0;34m(theData, varC, varP, noStates)\u001b[0m\n\u001b[1;32m      4\u001b[0m     \u001b[0mcPT\u001b[0m \u001b[0;34m=\u001b[0m \u001b[0mnp\u001b[0m\u001b[0;34m.\u001b[0m\u001b[0mzeros\u001b[0m\u001b[0;34m(\u001b[0m\u001b[0;34m(\u001b[0m\u001b[0mnoStates\u001b[0m\u001b[0;34m[\u001b[0m\u001b[0mvarC\u001b[0m\u001b[0;34m]\u001b[0m\u001b[0;34m,\u001b[0m \u001b[0mnoStates\u001b[0m\u001b[0;34m[\u001b[0m\u001b[0mvarP\u001b[0m\u001b[0;34m]\u001b[0m\u001b[0;34m)\u001b[0m\u001b[0;34m,\u001b[0m \u001b[0mfloat\u001b[0m\u001b[0;34m)\u001b[0m\u001b[0;34m\u001b[0m\u001b[0;34m\u001b[0m\u001b[0m\n\u001b[1;32m      5\u001b[0m     \u001b[0;31m# Coursework 1 task 2 should be inserte4d here\u001b[0m\u001b[0;34m\u001b[0m\u001b[0;34m\u001b[0m\u001b[0;34m\u001b[0m\u001b[0m\n\u001b[0;32m----> 6\u001b[0;31m     \u001b[0mprior_of_child\u001b[0m \u001b[0;34m=\u001b[0m \u001b[0mPrior\u001b[0m\u001b[0;34m(\u001b[0m\u001b[0mtheData\u001b[0m\u001b[0;34m,\u001b[0m \u001b[0;36m0\u001b[0m\u001b[0;34m,\u001b[0m \u001b[0mnoStates\u001b[0m\u001b[0;34m)\u001b[0m\u001b[0;34m\u001b[0m\u001b[0;34m\u001b[0m\u001b[0m\n\u001b[0m\u001b[1;32m      7\u001b[0m     \u001b[0mprior_of_parent\u001b[0m \u001b[0;34m=\u001b[0m \u001b[0mPrior\u001b[0m\u001b[0;34m(\u001b[0m\u001b[0mtheData\u001b[0m\u001b[0;34m,\u001b[0m \u001b[0;36m0\u001b[0m\u001b[0;34m,\u001b[0m \u001b[0mnoStates\u001b[0m\u001b[0;34m)\u001b[0m\u001b[0;34m\u001b[0m\u001b[0;34m\u001b[0m\u001b[0m\n\u001b[1;32m      8\u001b[0m \u001b[0;34m\u001b[0m\u001b[0m\n",
      "\u001b[0;32m<ipython-input-8-f2e33f02c9f8>\u001b[0m in \u001b[0;36mPrior\u001b[0;34m(theData, root, noStates)\u001b[0m\n\u001b[1;32m     11\u001b[0m     \u001b[0;32mfor\u001b[0m \u001b[0mm\u001b[0m \u001b[0;32min\u001b[0m \u001b[0mtheData\u001b[0m\u001b[0;34m:\u001b[0m\u001b[0;34m\u001b[0m\u001b[0;34m\u001b[0m\u001b[0m\n\u001b[1;32m     12\u001b[0m         \u001b[0mlist_m\u001b[0m \u001b[0;34m=\u001b[0m \u001b[0mlist\u001b[0m\u001b[0;34m(\u001b[0m\u001b[0mm\u001b[0m\u001b[0;34m)\u001b[0m\u001b[0;34m\u001b[0m\u001b[0;34m\u001b[0m\u001b[0m\n\u001b[0;32m---> 13\u001b[0;31m         \u001b[0mprior\u001b[0m\u001b[0;34m[\u001b[0m\u001b[0mlist_m\u001b[0m\u001b[0;34m[\u001b[0m\u001b[0mroot\u001b[0m\u001b[0;34m]\u001b[0m\u001b[0;34m]\u001b[0m \u001b[0;34m+=\u001b[0m \u001b[0;36m1.0\u001b[0m\u001b[0;34m\u001b[0m\u001b[0;34m\u001b[0m\u001b[0m\n\u001b[0m\u001b[1;32m     14\u001b[0m     \u001b[0;31m# print('Prior second: ', prior)\u001b[0m\u001b[0;34m\u001b[0m\u001b[0;34m\u001b[0m\u001b[0;34m\u001b[0m\u001b[0m\n\u001b[1;32m     15\u001b[0m     \u001b[0mprior\u001b[0m \u001b[0;34m/=\u001b[0m \u001b[0mlen\u001b[0m\u001b[0;34m(\u001b[0m\u001b[0mtheData\u001b[0m\u001b[0;34m)\u001b[0m\u001b[0;34m\u001b[0m\u001b[0;34m\u001b[0m\u001b[0m\n",
      "\u001b[0;31mIndexError\u001b[0m: list index out of range"
     ]
    }
   ],
   "source": [
    "#\n",
    "# End of Coursework 1\n",
    "#\n",
    "\n",
    "\n",
    "if __name__ == '__main__':\n",
    "    noVariables, noRoots, noStates, noDataPoints, datain = ReadFile(\"data.txt\")\n",
    "    theData = np.array(datain)\n",
    "    AppendString(\"results.txt\", \"Coursework One Results by {0}\".format(\"Tukpetov Raiymbet\"))\n",
    "    AppendString(\"results.txt\", \"\")  # blank line\n",
    "    AppendString(\"results.txt\", \"The prior probability of node 0\")\n",
    "    prior = Prior(theData, 0, noStates)\n",
    "    cPT = CPT(theData, 2, 0, noStates)\n",
    "#     jPT = JPT(theData, varRow, varCol, noStates)\n",
    "#     AppendList(\"results.txt\", prior)\n",
    "    print(\"The prior probability of node 0: \", prior)\n",
    "    print(\"Conditional probability matrix: \\n\", cPT)\n",
    "#     print(\"Joint probability matrix: \")\n",
    "#     print(\"Conditional probability matrix calculated from the joint probability matrix: \")\n",
    "#     print(\"Naive network: \")\n",
    "\n",
    "    # Continue filling the results.txt file here ..."
   ]
  },
  {
   "cell_type": "code",
   "execution_count": null,
   "metadata": {},
   "outputs": [],
   "source": []
  }
 ],
 "metadata": {
  "kernelspec": {
   "display_name": "Python 3",
   "language": "python",
   "name": "python3"
  },
  "language_info": {
   "codemirror_mode": {
    "name": "ipython",
    "version": 3
   },
   "file_extension": ".py",
   "mimetype": "text/x-python",
   "name": "python",
   "nbconvert_exporter": "python",
   "pygments_lexer": "ipython3",
   "version": "3.7.6"
  }
 },
 "nbformat": 4,
 "nbformat_minor": 4
}
