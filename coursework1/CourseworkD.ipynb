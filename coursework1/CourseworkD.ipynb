{
 "cells": [
  {
   "cell_type": "code",
   "execution_count": 52,
   "metadata": {},
   "outputs": [],
   "source": [
    "# Coursework in Python \n",
    "from CourseworkLibrary import *\n",
    "import numpy as np"
   ]
  },
  {
   "cell_type": "code",
   "execution_count": 53,
   "metadata": {},
   "outputs": [],
   "source": [
    "#\n",
    "# Coursework 1 begins here\n",
    "#\n",
    "# Function to compute the prior distribution of the variable root from the data set\n",
    "def Prior(theData, root, noStates):\n",
    "    prior = np.zeros((noStates[root]), float)\n",
    "    # Coursework 1 task 1 should be inserted here\n",
    "    data_amount=len(theData[:,0])\n",
    "    for i in range(data_amount):\n",
    "        prior[theData[i,root]]+=1\n",
    "    prior=prior/data_amount\n",
    "\n",
    "    return prior\n",
    "\n",
    "    # end of Coursework 1 task 1\n",
    "    \n",
    "\n"
   ]
  },
  {
   "cell_type": "code",
   "execution_count": 54,
   "metadata": {},
   "outputs": [],
   "source": [
    "\n",
    "# Function to compute a CPT with parent node varP and xchild node varC from the data array\n",
    "# it is assumed that the states are designated by consecutive integers starting with 0\n",
    "def CPT(theData, varC, varP, noStates):\n",
    "    cPT = np.zeros((noStates[varC], noStates[varP]), float)\n",
    "    # Coursework 1 task 2 should be inserte4d here\n",
    "    data_amount=len(theData[:,0])\n",
    "    for row in range(data_amount):\n",
    "        cPT[theData[row,varC]][theData[row,varP]]+=1\n",
    "    for i in range(noStates[varP]):\n",
    "        alpha=(np.sum(theData[:,varP]==i))\n",
    "        if alpha!=0:\n",
    "            cPT[:,i]=cPT[:,i]/(np.sum(theData[:,varP]==i))\n",
    "\n",
    "    # end of coursework 1 task 2\n",
    "    return cPT\n",
    "\n"
   ]
  },
  {
   "cell_type": "code",
   "execution_count": 55,
   "metadata": {},
   "outputs": [],
   "source": [
    "\n",
    "# Function to calculate the joint probability table of two variables in the data set\n",
    "def JPT(theData, varRow, varCol, noStates):\n",
    "    jPT = np.zeros((noStates[varRow], noStates[varCol]), float)\n",
    "    # Coursework 1 task 3 should be inserted here\n",
    "    data_amount=len(theData[:,0])\n",
    "    for row in range(data_amount):\n",
    "        jPT[theData[row,varRow]][theData[row,varCol]]+=1\n",
    "    jPT=jPT/data_amount\n",
    "    # end of coursework 1 task 3\n",
    "    return jPT\n",
    "\n",
    "\n",
    "\n"
   ]
  },
  {
   "cell_type": "code",
   "execution_count": 56,
   "metadata": {},
   "outputs": [],
   "source": [
    "\n",
    "# Function to convert a joint probability table to a conditional probability table\n",
    "def JPT2CPT(aJPT):\n",
    "    # Coursework 1 task 4 should be inserted here\n",
    "    for i in range(len(aJPT[0,:])):\n",
    "        alpha=(np.sum(aJPT[:,i]))\n",
    "        if alpha!=0:\n",
    "            aJPT[:,i]=aJPT[:,i] * (1/alpha)\n",
    "    # coursework 1 task 4 ends here\n",
    "    return aJPT\n",
    "\n"
   ]
  },
  {
   "cell_type": "code",
   "execution_count": 57,
   "metadata": {},
   "outputs": [],
   "source": [
    "# Function to query a naive Bayesian network\n",
    "def Query(theQuery, naiveBayes):\n",
    "    rootPdf = np.zeros((naiveBayes[0].shape[0]), float)\n",
    "    # Coursework 1 task 5 should be inserted here\n",
    "    for i in range(len(rootPdf)):\n",
    "        rootPdf[i]=naiveBayes[0][i]\n",
    "      \n",
    "        for j in range(0,len(theQuery)):\n",
    "            rootPdf[i]=rootPdf[i]*naiveBayes[j+1][theQuery[j],i]\n",
    "\t\n",
    "    if (np.sum(rootPdf)!=0):\n",
    "        rootPdf*=1/(np.sum(rootPdf)) #shouldnt be 0\n",
    "    else:\n",
    "        rootPdf=np.ones((naiveBayes[0].shape[0]), float)/naiveBayes[0].shape[0]\n",
    "    # end of coursework 1 task 5\n",
    "    return rootPdf\n",
    "\n"
   ]
  },
  {
   "cell_type": "code",
   "execution_count": 69,
   "metadata": {},
   "outputs": [
    {
     "ename": "IndexError",
     "evalue": "only integers, slices (`:`), ellipsis (`...`), numpy.newaxis (`None`) and integer or boolean arrays are valid indices",
     "output_type": "error",
     "traceback": [
      "\u001b[1;31m---------------------------------------------------------------------------\u001b[0m",
      "\u001b[1;31mIndexError\u001b[0m                                Traceback (most recent call last)",
      "\u001b[1;32m<ipython-input-69-3715cb3df9c6>\u001b[0m in \u001b[0;36m<module>\u001b[1;34m\u001b[0m\n\u001b[0;32m     22\u001b[0m     \u001b[0mAppendString\u001b[0m\u001b[1;33m(\u001b[0m\u001b[1;34m\"results.txt\"\u001b[0m\u001b[1;33m,\u001b[0m \u001b[1;34m\"Query a naive Bayesian network\"\u001b[0m\u001b[1;33m)\u001b[0m\u001b[1;33m\u001b[0m\u001b[1;33m\u001b[0m\u001b[0m\n\u001b[0;32m     23\u001b[0m     \u001b[0mtheQuery\u001b[0m \u001b[1;33m=\u001b[0m \u001b[0mprior\u001b[0m\u001b[1;33m\u001b[0m\u001b[1;33m\u001b[0m\u001b[0m\n\u001b[1;32m---> 24\u001b[1;33m     \u001b[0mrootPdf1\u001b[0m \u001b[1;33m=\u001b[0m \u001b[0mQuery\u001b[0m\u001b[1;33m(\u001b[0m\u001b[0mtheQuery\u001b[0m\u001b[1;33m,\u001b[0m \u001b[0mcPT\u001b[0m\u001b[1;33m)\u001b[0m\u001b[1;33m\u001b[0m\u001b[1;33m\u001b[0m\u001b[0m\n\u001b[0m\u001b[0;32m     25\u001b[0m     \u001b[0mAppendList\u001b[0m\u001b[1;33m(\u001b[0m\u001b[1;34m\"results.txt\"\u001b[0m\u001b[1;33m,\u001b[0m \u001b[0mrootPdf1\u001b[0m\u001b[1;33m)\u001b[0m\u001b[1;33m\u001b[0m\u001b[1;33m\u001b[0m\u001b[0m\n\u001b[0;32m     26\u001b[0m     \u001b[1;31m# Continue filling the results.txt file here ...\u001b[0m\u001b[1;33m\u001b[0m\u001b[1;33m\u001b[0m\u001b[1;33m\u001b[0m\u001b[0m\n",
      "\u001b[1;32m<ipython-input-57-3e66193e91f0>\u001b[0m in \u001b[0;36mQuery\u001b[1;34m(theQuery, naiveBayes)\u001b[0m\n\u001b[0;32m      7\u001b[0m \u001b[1;33m\u001b[0m\u001b[0m\n\u001b[0;32m      8\u001b[0m         \u001b[1;32mfor\u001b[0m \u001b[0mj\u001b[0m \u001b[1;32min\u001b[0m \u001b[0mrange\u001b[0m\u001b[1;33m(\u001b[0m\u001b[1;36m0\u001b[0m\u001b[1;33m,\u001b[0m\u001b[0mlen\u001b[0m\u001b[1;33m(\u001b[0m\u001b[0mtheQuery\u001b[0m\u001b[1;33m)\u001b[0m\u001b[1;33m)\u001b[0m\u001b[1;33m:\u001b[0m\u001b[1;33m\u001b[0m\u001b[1;33m\u001b[0m\u001b[0m\n\u001b[1;32m----> 9\u001b[1;33m             \u001b[0mrootPdf\u001b[0m\u001b[1;33m[\u001b[0m\u001b[0mi\u001b[0m\u001b[1;33m]\u001b[0m\u001b[1;33m=\u001b[0m\u001b[0mrootPdf\u001b[0m\u001b[1;33m[\u001b[0m\u001b[0mi\u001b[0m\u001b[1;33m]\u001b[0m\u001b[1;33m*\u001b[0m\u001b[0mnaiveBayes\u001b[0m\u001b[1;33m[\u001b[0m\u001b[0mj\u001b[0m\u001b[1;33m+\u001b[0m\u001b[1;36m1\u001b[0m\u001b[1;33m]\u001b[0m\u001b[1;33m[\u001b[0m\u001b[0mtheQuery\u001b[0m\u001b[1;33m[\u001b[0m\u001b[0mj\u001b[0m\u001b[1;33m]\u001b[0m\u001b[1;33m,\u001b[0m\u001b[0mi\u001b[0m\u001b[1;33m]\u001b[0m\u001b[1;33m\u001b[0m\u001b[1;33m\u001b[0m\u001b[0m\n\u001b[0m\u001b[0;32m     10\u001b[0m \u001b[1;33m\u001b[0m\u001b[0m\n\u001b[0;32m     11\u001b[0m     \u001b[1;32mif\u001b[0m \u001b[1;33m(\u001b[0m\u001b[0mnp\u001b[0m\u001b[1;33m.\u001b[0m\u001b[0msum\u001b[0m\u001b[1;33m(\u001b[0m\u001b[0mrootPdf\u001b[0m\u001b[1;33m)\u001b[0m\u001b[1;33m!=\u001b[0m\u001b[1;36m0\u001b[0m\u001b[1;33m)\u001b[0m\u001b[1;33m:\u001b[0m\u001b[1;33m\u001b[0m\u001b[1;33m\u001b[0m\u001b[0m\n",
      "\u001b[1;31mIndexError\u001b[0m: only integers, slices (`:`), ellipsis (`...`), numpy.newaxis (`None`) and integer or boolean arrays are valid indices"
     ]
    }
   ],
   "source": [
    "if __name__ == '__main__':\n",
    "    noVariables, noRoots, noStates, noDataPoints, datain = ReadFile(\"data.txt\")\n",
    "    theData = np.array(datain)\n",
    "    AppendString(\"results.txt\", \"Coursework One Results by {0}\".format(\"Diana Darkhan\"))\n",
    "    AppendString(\"results.txt\", \"\")  # blank line\n",
    "    AppendString(\"results.txt\", \"The prior probability of node 0\")\n",
    "    prior = Prior(theData, 0, noStates)\n",
    "    AppendList(\"results.txt\", prior)\n",
    "    AppendString(\"results.txt\", \"\")  # blank line\n",
    "    AppendString(\"results.txt\", \"The CPT probability\")\n",
    "    cPT = CPT(theData, 2, 0, noStates)\n",
    "    AppendArray(\"results.txt\", cPT)\n",
    "    AppendString(\"results.txt\", \"\")  # blank line\n",
    "    AppendString(\"results.txt\", \"The JPT probability\")\n",
    "    jPT = JPT(theData, 2, 0, noStates)\n",
    "    AppendArray(\"results.txt\", jPT)\n",
    "    AppendString(\"results.txt\", \"\")  # blank line\n",
    "    AppendString(\"results.txt\", \"The JPT2CPT probability\")\n",
    "    aJPT = JPT2CPT(jPT)\n",
    "    AppendArray(\"results.txt\", aJPT)\n",
    "    AppendString(\"results.txt\", \"\")  # blank line\n",
    "    AppendString(\"results.txt\", \"Query a naive Bayesian network\")\n",
    "    theQuery = prior\n",
    "    rootPdf1 = Query(theQuery, cPT)\n",
    "    AppendList(\"results.txt\", rootPdf1)\n",
    "    # Continue filling the results.txt file here ..."
   ]
  },
  {
   "cell_type": "code",
   "execution_count": null,
   "metadata": {},
   "outputs": [],
   "source": []
  }
 ],
 "metadata": {
  "kernelspec": {
   "display_name": "Python 3",
   "language": "python",
   "name": "python3"
  },
  "language_info": {
   "codemirror_mode": {
    "name": "ipython",
    "version": 3
   },
   "file_extension": ".py",
   "mimetype": "text/x-python",
   "name": "python",
   "nbconvert_exporter": "python",
   "pygments_lexer": "ipython3",
   "version": "3.7.4"
  }
 },
 "nbformat": 4,
 "nbformat_minor": 2
}
